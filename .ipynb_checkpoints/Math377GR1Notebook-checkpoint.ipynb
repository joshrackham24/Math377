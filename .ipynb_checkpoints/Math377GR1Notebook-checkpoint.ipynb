{
 "cells": [
  {
   "cell_type": "code",
   "execution_count": 4,
   "metadata": {
    "collapsed": true
   },
   "outputs": [],
   "source": [
    "from datascience import *\n",
    "import numpy as np\n",
    "\n",
    "from math import factorial\n",
    "\n",
    "def choose(n, c):\n",
    "    \"Number of ways to choose c items from a list of n items.\"\n",
    "    return factorial(n) // (factorial(n - c) * factorial(c))\n",
    "\n",
    "def permute(n, c):\n",
    "    \"Number of ways to select c items from a list of n items when order matters.\"\n",
    "    return factorial(n) // (factorial(n - c))\n",
    "\n",
    "nba=Table.read_table('nba_salaries.csv')"
   ]
  },
  {
   "cell_type": "markdown",
   "metadata": {},
   "source": [
    "## Question 10"
   ]
  },
  {
   "cell_type": "code",
   "execution_count": 5,
   "metadata": {},
   "outputs": [
    {
     "name": "stdout",
     "output_type": "stream",
     "text": [
      "120\n"
     ]
    },
    {
     "data": {
      "text/plain": [
       "0.0002787834551165249"
      ]
     },
     "execution_count": 5,
     "metadata": {},
     "output_type": "execute_result"
    }
   ],
   "source": [
    "print(30+30+25+35)\n",
    "choose(25, 5)*choose(95, 0) / choose(120, 5)"
   ]
  },
  {
   "cell_type": "markdown",
   "metadata": {},
   "source": [
    "## Question 11"
   ]
  },
  {
   "cell_type": "code",
   "execution_count": 6,
   "metadata": {},
   "outputs": [
    {
     "data": {
      "text/plain": [
       "0.3040251849814541"
      ]
     },
     "execution_count": 6,
     "metadata": {},
     "output_type": "execute_result"
    }
   ],
   "source": [
    "choose(95, 5)*choose(25, 0) / choose(120, 5)"
   ]
  },
  {
   "cell_type": "markdown",
   "metadata": {},
   "source": [
    "## Question 12"
   ]
  },
  {
   "cell_type": "code",
   "execution_count": 8,
   "metadata": {},
   "outputs": [
    {
     "name": "stdout",
     "output_type": "stream",
     "text": [
      "0.8278840534100615\n"
     ]
    }
   ],
   "source": [
    "no_4_degs = choose(35, 0)*choose(85, 5) / choose(120, 5)\n",
    "print(1 - no_4_degs)"
   ]
  },
  {
   "cell_type": "markdown",
   "metadata": {},
   "source": [
    "## Question 13"
   ]
  },
  {
   "cell_type": "code",
   "execution_count": 36,
   "metadata": {},
   "outputs": [
    {
     "data": {
      "text/plain": [
       "0.01369517820165876"
      ]
     },
     "execution_count": 36,
     "metadata": {},
     "output_type": "execute_result"
    }
   ],
   "source": [
    "choose(25, 1)*choose(30, 1)*choose(30, 1)*choose(116, 1) / choose(120, 5)"
   ]
  },
  {
   "cell_type": "code",
   "execution_count": null,
   "metadata": {
    "collapsed": true
   },
   "outputs": [],
   "source": []
  },
  {
   "cell_type": "markdown",
   "metadata": {},
   "source": [
    "## Question 15"
   ]
  },
  {
   "cell_type": "code",
   "execution_count": 12,
   "metadata": {},
   "outputs": [
    {
     "data": {
      "text/html": [
       "<table border=\"1\" class=\"dataframe\">\n",
       "    <thead>\n",
       "        <tr>\n",
       "            <th>PLAYER</th> <th>POSITION</th> <th>TEAM</th> <th>'15-'16 SALARY</th>\n",
       "        </tr>\n",
       "    </thead>\n",
       "    <tbody>\n",
       "        <tr>\n",
       "            <td>Kent Bazemore</td> <td>SF      </td> <td>Atlanta Hawks</td> <td>2             </td>\n",
       "        </tr>\n",
       "    </tbody>\n",
       "</table>"
      ],
      "text/plain": [
       "PLAYER        | POSITION | TEAM          | '15-'16 SALARY\n",
       "Kent Bazemore | SF       | Atlanta Hawks | 2"
      ]
     },
     "execution_count": 12,
     "metadata": {},
     "output_type": "execute_result"
    }
   ],
   "source": [
    "nba.where(\"PLAYER\", are.equal_to(\"Kent Bazemore\"))"
   ]
  },
  {
   "cell_type": "markdown",
   "metadata": {},
   "source": [
    "## Question 16"
   ]
  },
  {
   "cell_type": "code",
   "execution_count": 18,
   "metadata": {},
   "outputs": [
    {
     "name": "stdout",
     "output_type": "stream",
     "text": [
      "PLAYER          | POSITION | TEAM            | '15-'16 SALARY\n",
      "Jose Calderon   | PG       | New York Knicks | 7.40281\n",
      "Jerian Grant    | PG       | New York Knicks | 1.57236\n",
      "Jimmer Fredette | PG       | New York Knicks | 0.874837\n"
     ]
    },
    {
     "data": {
      "text/plain": [
       "3.283336333333333"
      ]
     },
     "execution_count": 18,
     "metadata": {},
     "output_type": "execute_result"
    }
   ],
   "source": [
    "knicks = nba.where(\"TEAM\", are.equal_to(\"New York Knicks\"))\n",
    "knicks_pg = knicks.where(\"POSITION\", are.equal_to(\"PG\"))\n",
    "print(knicks_pg)\n",
    "np.mean(knicks_pg.column(\"'15-'16 SALARY\")) # This checks out when you manually average those, which I did just to be safe."
   ]
  },
  {
   "cell_type": "markdown",
   "metadata": {},
   "source": [
    "## Question 17"
   ]
  },
  {
   "cell_type": "code",
   "execution_count": 39,
   "metadata": {},
   "outputs": [
    {
     "data": {
      "text/html": [
       "<table border=\"1\" class=\"dataframe\">\n",
       "    <thead>\n",
       "        <tr>\n",
       "            <th>TEAM</th> <th>POSITION mean</th> <th>PLAYER max mean</th> <th>'15-'16 SALARY max mean</th>\n",
       "        </tr>\n",
       "    </thead>\n",
       "    <tbody>\n",
       "        <tr>\n",
       "            <td>Miami Heat           </td> <td>             </td> <td>               </td> <td>16.7818                </td>\n",
       "        </tr>\n",
       "        <tr>\n",
       "            <td>Cleveland Cavaliers  </td> <td>             </td> <td>               </td> <td>16.4633                </td>\n",
       "        </tr>\n",
       "        <tr>\n",
       "            <td>Oklahoma City Thunder</td> <td>             </td> <td>               </td> <td>14.1398                </td>\n",
       "        </tr>\n",
       "        <tr>\n",
       "            <td>San Antonio Spurs    </td> <td>             </td> <td>               </td> <td>13.4068                </td>\n",
       "        </tr>\n",
       "        <tr>\n",
       "            <td>Golden State Warriors</td> <td>             </td> <td>               </td> <td>13.3286                </td>\n",
       "        </tr>\n",
       "        <tr>\n",
       "            <td>Houston Rockets      </td> <td>             </td> <td>               </td> <td>12.2406                </td>\n",
       "        </tr>\n",
       "        <tr>\n",
       "            <td>Chicago Bulls        </td> <td>             </td> <td>               </td> <td>11.5649                </td>\n",
       "        </tr>\n",
       "        <tr>\n",
       "            <td>Los Angeles Lakers   </td> <td>             </td> <td>               </td> <td>11.1655                </td>\n",
       "        </tr>\n",
       "        <tr>\n",
       "            <td>New York Knicks      </td> <td>             </td> <td>               </td> <td>11.0119                </td>\n",
       "        </tr>\n",
       "        <tr>\n",
       "            <td>Sacramento Kings     </td> <td>             </td> <td>               </td> <td>10.9539                </td>\n",
       "        </tr>\n",
       "    </tbody>\n",
       "</table>\n",
       "<p>... (20 rows omitted)</p>"
      ],
      "text/plain": [
       "TEAM                  | POSITION mean | PLAYER max mean | '15-'16 SALARY max mean\n",
       "Miami Heat            |               |                 | 16.7818\n",
       "Cleveland Cavaliers   |               |                 | 16.4633\n",
       "Oklahoma City Thunder |               |                 | 14.1398\n",
       "San Antonio Spurs     |               |                 | 13.4068\n",
       "Golden State Warriors |               |                 | 13.3286\n",
       "Houston Rockets       |               |                 | 12.2406\n",
       "Chicago Bulls         |               |                 | 11.5649\n",
       "Los Angeles Lakers    |               |                 | 11.1655\n",
       "New York Knicks       |               |                 | 11.0119\n",
       "Sacramento Kings      |               |                 | 10.9539\n",
       "... (20 rows omitted)"
      ]
     },
     "execution_count": 39,
     "metadata": {},
     "output_type": "execute_result"
    }
   ],
   "source": [
    "salary_maxes = nba.group([\"TEAM\", \"POSITION\"], max).group(\"TEAM\", np.mean).sort(3, descending = True)\n",
    "salary_maxes"
   ]
  },
  {
   "cell_type": "markdown",
   "metadata": {},
   "source": [
    "## Question 18"
   ]
  },
  {
   "cell_type": "code",
   "execution_count": 33,
   "metadata": {},
   "outputs": [
    {
     "data": {
      "text/html": [
       "<table border=\"1\" class=\"dataframe\">\n",
       "    <thead>\n",
       "        <tr>\n",
       "            <th>PLAYER</th> <th>POSITION</th> <th>TEAM</th> <th>'15-'16 SALARY</th>\n",
       "        </tr>\n",
       "    </thead>\n",
       "    <tbody>\n",
       "        <tr>\n",
       "            <td>Paul Millsap    </td> <td>PF      </td> <td>Atlanta Hawks</td> <td>18.6717       </td>\n",
       "        </tr>\n",
       "        <tr>\n",
       "            <td>Al Horford      </td> <td>C       </td> <td>Atlanta Hawks</td> <td>12            </td>\n",
       "        </tr>\n",
       "        <tr>\n",
       "            <td>Tiago Splitter  </td> <td>C       </td> <td>Atlanta Hawks</td> <td>9.75625       </td>\n",
       "        </tr>\n",
       "        <tr>\n",
       "            <td>Jeff Teague     </td> <td>PG      </td> <td>Atlanta Hawks</td> <td>8             </td>\n",
       "        </tr>\n",
       "        <tr>\n",
       "            <td>Kyle Korver     </td> <td>SG      </td> <td>Atlanta Hawks</td> <td>5.74648       </td>\n",
       "        </tr>\n",
       "        <tr>\n",
       "            <td>Thabo Sefolosha </td> <td>SF      </td> <td>Atlanta Hawks</td> <td>4             </td>\n",
       "        </tr>\n",
       "        <tr>\n",
       "            <td>Mike Scott      </td> <td>PF      </td> <td>Atlanta Hawks</td> <td>3.33333       </td>\n",
       "        </tr>\n",
       "        <tr>\n",
       "            <td>Kent Bazemore   </td> <td>SF      </td> <td>Atlanta Hawks</td> <td>2             </td>\n",
       "        </tr>\n",
       "        <tr>\n",
       "            <td>Dennis Schroder </td> <td>PG      </td> <td>Atlanta Hawks</td> <td>1.7634        </td>\n",
       "        </tr>\n",
       "        <tr>\n",
       "            <td>Tim Hardaway Jr.</td> <td>SG      </td> <td>Atlanta Hawks</td> <td>1.30452       </td>\n",
       "        </tr>\n",
       "    </tbody>\n",
       "</table>\n",
       "<p>... (407 rows omitted)</p>"
      ],
      "text/plain": [
       "PLAYER           | POSITION | TEAM          | '15-'16 SALARY\n",
       "Paul Millsap     | PF       | Atlanta Hawks | 18.6717\n",
       "Al Horford       | C        | Atlanta Hawks | 12\n",
       "Tiago Splitter   | C        | Atlanta Hawks | 9.75625\n",
       "Jeff Teague      | PG       | Atlanta Hawks | 8\n",
       "Kyle Korver      | SG       | Atlanta Hawks | 5.74648\n",
       "Thabo Sefolosha  | SF       | Atlanta Hawks | 4\n",
       "Mike Scott       | PF       | Atlanta Hawks | 3.33333\n",
       "Kent Bazemore    | SF       | Atlanta Hawks | 2\n",
       "Dennis Schroder  | PG       | Atlanta Hawks | 1.7634\n",
       "Tim Hardaway Jr. | SG       | Atlanta Hawks | 1.30452\n",
       "... (407 rows omitted)"
      ]
     },
     "execution_count": 33,
     "metadata": {},
     "output_type": "execute_result"
    }
   ],
   "source": [
    "def diff(team_salaries):\n",
    "    team_max = max(team_salaries)\n",
    "    team_avg = np.mean(team_salaries)\n",
    "    return team_max - team_avg"
   ]
  },
  {
   "cell_type": "code",
   "execution_count": null,
   "metadata": {
    "collapsed": true
   },
   "outputs": [],
   "source": [
    "nba.with_column(\"Salary compared to Average\", nba.apply(diff, \"'15-'16 SALARY\"))"
   ]
  }
 ],
 "metadata": {
  "kernelspec": {
   "display_name": "Python 3",
   "language": "python",
   "name": "python3"
  },
  "language_info": {
   "codemirror_mode": {
    "name": "ipython",
    "version": 3
   },
   "file_extension": ".py",
   "mimetype": "text/x-python",
   "name": "python",
   "nbconvert_exporter": "python",
   "pygments_lexer": "ipython3",
   "version": "3.6.3"
  }
 },
 "nbformat": 4,
 "nbformat_minor": 2
}
