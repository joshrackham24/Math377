{
 "cells": [
  {
   "cell_type": "markdown",
   "metadata": {},
   "source": [
    "# Lesson 3"
   ]
  },
  {
   "cell_type": "code",
   "execution_count": 2,
   "metadata": {
    "collapsed": true
   },
   "outputs": [],
   "source": [
    "from datascience import *\n",
    "import numpy as np\n",
    "\n",
    "%matplotlib inline\n",
    "import matplotlib.pyplot as plt\n",
    "plt.style.use('fivethirtyeight')"
   ]
  },
  {
   "cell_type": "markdown",
   "metadata": {},
   "source": [
    "#### Question 1"
   ]
  },
  {
   "cell_type": "code",
   "execution_count": 3,
   "metadata": {},
   "outputs": [
    {
     "name": "stdout",
     "output_type": "stream",
     "text": [
      "The number of seconds in a month is:\n",
      "2592000\n"
     ]
    }
   ],
   "source": [
    "# I am going to calculate the number of seconds in the month of June:\n",
    "day_seconds = 60*60*24\n",
    "month_seconds = day_seconds*30\n",
    "print(\"The number of seconds in a month is:\")\n",
    "print(month_seconds)"
   ]
  },
  {
   "cell_type": "markdown",
   "metadata": {},
   "source": [
    "#### Queston 2"
   ]
  },
  {
   "cell_type": "code",
   "execution_count": 4,
   "metadata": {},
   "outputs": [
    {
     "name": "stdout",
     "output_type": "stream",
     "text": [
      "The number of seconds between 1 June, 1200 and 14 Aug, 0930 is:\n",
      "6384600.0\n"
     ]
    }
   ],
   "source": [
    "# This is the number of seconds between June 1, 1200 and 14 August, 0930\n",
    "from datetime import timedelta\n",
    "time_elapsed = timedelta(weeks=10, days=3, hours=21, minutes=30, seconds=0)\n",
    "print(\"The number of seconds between 1 June, 1200 and 14 Aug, 0930 is:\")\n",
    "print(time_elapsed.total_seconds())"
   ]
  },
  {
   "cell_type": "markdown",
   "metadata": {},
   "source": [
    "#### Question 3a"
   ]
  },
  {
   "cell_type": "code",
   "execution_count": 5,
   "metadata": {},
   "outputs": [
    {
     "name": "stdout",
     "output_type": "stream",
     "text": [
      "    Year  Population\n",
      "65  2015  7256490011\n"
     ]
    }
   ],
   "source": [
    "import pandas as pd\n",
    "\n",
    "# The following dataset gives the world population starting at 1950 and ending at 2016:\n",
    "world_population = pd.read_csv(\"world_population.csv\")\n",
    "\n",
    "# Since it doesn't include years, I am going to add those here\n",
    "years = pd.DataFrame(list(range(1950, 2017)), columns=['Year'])\n",
    "years = pd.DataFrame(years)\n",
    "years = years.merge(world_population, right_index=True, left_index=True)\n",
    "\n",
    "# Let's figure out the population in 2015:\n",
    "print(years.loc[years['Year'] == 2015])"
   ]
  },
  {
   "cell_type": "markdown",
   "metadata": {
    "collapsed": true
   },
   "source": [
    "#### Question 3b"
   ]
  },
  {
   "cell_type": "code",
   "execution_count": 6,
   "metadata": {},
   "outputs": [
    {
     "name": "stdout",
     "output_type": "stream",
     "text": [
      "4698861357\n"
     ]
    }
   ],
   "source": [
    "# Population difference between 2015 and 1950:\n",
    "pop_change = years.iloc[-1, 1] - years.iloc[0, 1]\n",
    "print(pop_change)"
   ]
  },
  {
   "cell_type": "markdown",
   "metadata": {},
   "source": [
    "#### Question 3c"
   ]
  },
  {
   "cell_type": "code",
   "execution_count": 17,
   "metadata": {},
   "outputs": [
    {
     "name": "stdout",
     "output_type": "stream",
     "text": [
      "The average annual growth rate over the course of this dataset is:\n"
     ]
    },
    {
     "data": {
      "text/plain": [
       "0.01617270380658975"
      ]
     },
     "execution_count": 17,
     "metadata": {},
     "output_type": "execute_result"
    }
   ],
   "source": [
    "# Average annual growth rate is (changed/initial) ** (1/t) - 1\n",
    "changed = years.iloc[-1,1]\n",
    "initial = years.iloc[0, 1]\n",
    "t = 65\n",
    "\n",
    "print(\"The average annual growth rate over the course of this dataset is:\")\n",
    "(changed/initial) ** (1/t) - 1"
   ]
  },
  {
   "cell_type": "markdown",
   "metadata": {},
   "source": [
    "#### Question 4a: Import the 'titanic' data set and Relabel the 'Pclass' column to 'Passenger_class'"
   ]
  },
  {
   "cell_type": "code",
   "execution_count": 18,
   "metadata": {},
   "outputs": [],
   "source": [
    "titanic = pd.read_csv(\"titanic_train.csv\")\n",
    "titanic.rename(columns={'Pclass': 'Passenger_class'}, inplace=True)"
   ]
  },
  {
   "cell_type": "markdown",
   "metadata": {},
   "source": [
    "#### Question 4b"
   ]
  },
  {
   "cell_type": "code",
   "execution_count": 19,
   "metadata": {
    "collapsed": true
   },
   "outputs": [],
   "source": [
    "# Add columns \"SibSp\" and \"Parch\" to create \"Family_Size\"\n",
    "titanic['Family_Size'] = titanic['SibSp'] + titanic['Parch']"
   ]
  },
  {
   "cell_type": "markdown",
   "metadata": {},
   "source": [
    "#### Question 4c: Create a barplot of number of passengers, broken down by passenger class."
   ]
  },
  {
   "cell_type": "code",
   "execution_count": 20,
   "metadata": {},
   "outputs": [
    {
     "data": {
      "image/png": "[encoded data removed]",
      "text/plain": [
       "<matplotlib.figure.Figure at 0x115499da0>"
      ]
     },
     "metadata": {},
     "output_type": "display_data"
    }
   ],
   "source": [
    "import seaborn as sns\n",
    "ax = sns.countplot(x=\"Passenger_class\", data=titanic)"
   ]
  },
  {
   "cell_type": "markdown",
   "metadata": {},
   "source": [
    "#### Question 4d\n",
    "Sort by age: show youngest 5 passengers"
   ]
  },
  {
   "cell_type": "code",
   "execution_count": 21,
   "metadata": {},
   "outputs": [
    {
     "name": "stdout",
     "output_type": "stream",
     "text": [
      "     PassengerId  Survived  Passenger_class                             Name  \\\n",
      "803          804         1                3  Thomas, Master. Assad Alexander   \n",
      "755          756         1                2        Hamalainen, Master. Viljo   \n",
      "644          645         1                3           Baclini, Miss. Eugenie   \n",
      "469          470         1                3    Baclini, Miss. Helene Barbara   \n",
      "78            79         1                2    Caldwell, Master. Alden Gates   \n",
      "\n",
      "        Sex   Age  SibSp  Parch  Ticket     Fare Cabin Embarked  Family_Size  \n",
      "803    male  0.42      0      1    2625   8.5167   NaN        C            1  \n",
      "755    male  0.67      1      1  250649  14.5000   NaN        S            2  \n",
      "644  female  0.75      2      1    2666  19.2583   NaN        C            3  \n",
      "469  female  0.75      2      1    2666  19.2583   NaN        C            3  \n",
      "78     male  0.83      0      2  248738  29.0000   NaN        S            2  \n"
     ]
    }
   ],
   "source": [
    "titanic = titanic.sort_values('Age', ascending=True)\n",
    "print(titanic[0:5])"
   ]
  },
  {
   "cell_type": "markdown",
   "metadata": {},
   "source": [
    "#### Question 4e: Sort the data by age and show the youngest 5 passengers"
   ]
  },
  {
   "cell_type": "code",
   "execution_count": 22,
   "metadata": {},
   "outputs": [
    {
     "name": "stdout",
     "output_type": "stream",
     "text": [
      "     PassengerId  Survived  Passenger_class  \\\n",
      "630          631         1                1   \n",
      "851          852         0                3   \n",
      "96            97         0                1   \n",
      "493          494         0                1   \n",
      "116          117         0                3   \n",
      "\n",
      "                                     Name   Sex   Age  SibSp  Parch    Ticket  \\\n",
      "630  Barkworth, Mr. Algernon Henry Wilson  male  80.0      0      0     27042   \n",
      "851                   Svensson, Mr. Johan  male  74.0      0      0    347060   \n",
      "96              Goldschmidt, Mr. George B  male  71.0      0      0  PC 17754   \n",
      "493               Artagaveytia, Mr. Ramon  male  71.0      0      0  PC 17609   \n",
      "116                  Connors, Mr. Patrick  male  70.5      0      0    370369   \n",
      "\n",
      "        Fare Cabin Embarked  Family_Size  \n",
      "630  30.0000   A23        S            0  \n",
      "851   7.7750   NaN        S            0  \n",
      "96   34.6542    A5        C            0  \n",
      "493  49.5042   NaN        C            0  \n",
      "116   7.7500   NaN        Q            0  \n"
     ]
    }
   ],
   "source": [
    "titanic = titanic.sort_values('Age', ascending=False)\n",
    "print(titanic[0:5])\n",
    "# It wants me to fix the NaN issue but the way I did it was right the first time."
   ]
  },
  {
   "cell_type": "markdown",
   "metadata": {},
   "source": [
    "#### Question 4f: Find the survival rate for passengers of the Titanic, broken down by passenger class."
   ]
  },
  {
   "cell_type": "code",
   "execution_count": 23,
   "metadata": {},
   "outputs": [
    {
     "name": "stdout",
     "output_type": "stream",
     "text": [
      "3    491\n",
      "1    216\n",
      "2    184\n",
      "Name: Passenger_class, dtype: int64\n",
      "Out of 216 class 1 passengers, this many survived:\n",
      "136\n",
      "That makes a survival rate of:\n",
      "0.6296296296296297\n",
      "Out of 216 class 2 passengers, this many survived:\n",
      "87\n",
      "That makes a survival rate of:\n",
      "0.4027777777777778\n",
      "Out of 216 class 3 passengers, this many survived:\n",
      "119\n",
      "That makes a survival rate of:\n",
      "0.5509259259259259\n"
     ]
    }
   ],
   "source": [
    "# How many are there in each class?\n",
    "print(titanic['Passenger_class'].value_counts())\n",
    "\n",
    "# For class 1\n",
    "print(\"Out of 216 class 1 passengers, this many survived:\")\n",
    "survived_1 = titanic[(titanic.Passenger_class == 1) & (titanic.Survived == 1)]\n",
    "print(survived_1.shape[0])\n",
    "print(\"That makes a survival rate of:\")\n",
    "print(survived_1.shape[0]/216)\n",
    "\n",
    "# For class 2\n",
    "print(\"Out of 216 class 2 passengers, this many survived:\")\n",
    "survived_2 = titanic[(titanic.Passenger_class == 2) & (titanic.Survived == 1)]\n",
    "print(survived_2.shape[0])\n",
    "print(\"That makes a survival rate of:\")\n",
    "print(survived_2.shape[0]/216)\n",
    "\n",
    "# For class 3\n",
    "print(\"Out of 216 class 3 passengers, this many survived:\")\n",
    "survived_3= titanic[(titanic.Passenger_class == 3) & (titanic.Survived == 1)]\n",
    "print(survived_3.shape[0])\n",
    "print(\"That makes a survival rate of:\")\n",
    "print(survived_3.shape[0]/216)"
   ]
  },
  {
   "cell_type": "markdown",
   "metadata": {},
   "source": [
    "#### Question 4g: Now that you have some familiarity with the dataset, reate two of your own questions and answer them."
   ]
  },
  {
   "cell_type": "code",
   "execution_count": 24,
   "metadata": {},
   "outputs": [
    {
     "name": "stdout",
     "output_type": "stream",
     "text": [
      "0.3838383838383838\n"
     ]
    }
   ],
   "source": [
    "# What was the overall survival rate?\n",
    "print((survived_1.shape[0] + survived_2.shape[0] + survived_3.shape[0]) / titanic.shape[0])"
   ]
  },
  {
   "cell_type": "code",
   "execution_count": 25,
   "metadata": {},
   "outputs": [
    {
     "data": {
      "text/plain": [
       "<seaborn.axisgrid.FacetGrid at 0x110727940>"
      ]
     },
     "execution_count": 25,
     "metadata": {},
     "output_type": "execute_result"
    },
    {
     "data": {
      "image/png": "[encoded data removed]",
      "text/plain": [
       "<matplotlib.figure.Figure at 0x1157c3208>"
      ]
     },
     "metadata": {},
     "output_type": "display_data"
    }
   ],
   "source": [
    "# What was the gender distribution of each class?\n",
    "sns.factorplot(\"Sex\", \"Survived\", col=\"Passenger_class\", data=titanic, kind=\"bar\")"
   ]
  },
  {
   "cell_type": "code",
   "execution_count": null,
   "metadata": {
    "collapsed": true
   },
   "outputs": [],
   "source": []
  }
 ],
 "metadata": {
  "kernelspec": {
   "display_name": "Python 3",
   "language": "python",
   "name": "python3"
  },
  "language_info": {
   "codemirror_mode": {
    "name": "ipython",
    "version": 3
   },
   "file_extension": ".py",
   "mimetype": "text/x-python",
   "name": "python",
   "nbconvert_exporter": "python",
   "pygments_lexer": "ipython3",
   "version": "3.6.3"
  }
 },
 "nbformat": 4,
 "nbformat_minor": 2
}
