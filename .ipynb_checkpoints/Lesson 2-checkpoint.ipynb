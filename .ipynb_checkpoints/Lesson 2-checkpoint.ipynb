{
 "cells": [
  {
   "cell_type": "markdown",
   "metadata": {},
   "source": [
    "# Lesson 2\n",
    "## C1C Joshua Rackham"
   ]
  },
  {
   "cell_type": "markdown",
   "metadata": {},
   "source": [
    "#### Number 1: Deifne data science. How do you think you will use Data Science in your career (either as a student or in the Air Force)?\n",
    "\n",
    "1. Data Science is the process of collecting, organizing, analyzing, and making conclusions from information. This usually is for the purpose of establishing relationships between factors, and even can lead to establishing causality in between various factors. I will use data science in my career because I hope to be a 61A, and one of the most fundamental parts of this job will be focused on data collection, cleaning, and analysis."
   ]
  },
  {
   "cell_type": "markdown",
   "metadata": {},
   "source": [
    "#### Number 2: What ar ethe three focus areas in this course?\n",
    "\n",
    "The three focus areas of this course are Exploration, Inference, and Prediction"
   ]
  },
  {
   "cell_type": "markdown",
   "metadata": {},
   "source": [
    "#### Number 3: Install the datascience package (no Jupyter Notebook input required)\n",
    "\n",
    "I have installed the datascience package using pip install in my terminal."
   ]
  },
  {
   "cell_type": "markdown",
   "metadata": {},
   "source": [
    "#### Number 4: Do at least 3 basic calculations in three separate boxes."
   ]
  },
  {
   "cell_type": "code",
   "execution_count": 1,
   "metadata": {},
   "outputs": [
    {
     "data": {
      "text/plain": [
       "4"
      ]
     },
     "execution_count": 1,
     "metadata": {},
     "output_type": "execute_result"
    }
   ],
   "source": [
    "2+2"
   ]
  },
  {
   "cell_type": "code",
   "execution_count": 2,
   "metadata": {},
   "outputs": [
    {
     "data": {
      "text/plain": [
       "0"
      ]
     },
     "execution_count": 2,
     "metadata": {},
     "output_type": "execute_result"
    }
   ],
   "source": [
    "6*0"
   ]
  },
  {
   "cell_type": "code",
   "execution_count": 3,
   "metadata": {},
   "outputs": [
    {
     "data": {
      "text/plain": [
       "37.1"
      ]
     },
     "execution_count": 3,
     "metadata": {},
     "output_type": "execute_result"
    }
   ],
   "source": [
    "8.1+4+5*5"
   ]
  },
  {
   "cell_type": "markdown",
   "metadata": {},
   "source": [
    "#### Number 5: In another box, use python code to print your name followed by a \"thumbs up\" sign."
   ]
  },
  {
   "cell_type": "code",
   "execution_count": 4,
   "metadata": {},
   "outputs": [
    {
     "name": "stdout",
     "output_type": "stream",
     "text": [
      "Josh Rackham 👍\n"
     ]
    }
   ],
   "source": [
    "print(\"Josh Rackham \\U0001f44d\")"
   ]
  },
  {
   "cell_type": "markdown",
   "metadata": {},
   "source": [
    "#### Number 6: I read once that violent crime is significantly associated with ice cream sales. That is, as ice cream sales increase, so does violent crime. Do high ice cream sales cause an increase in violent crime? Explain this relationship.\n",
    "High ice cream sales does not cause an increase in violent crime. This is an association, not a causal relationship. Associations can be established by mere observations, while much more evidence is necessary for a causal relationship. This is because a causal relationship needs proof of having eliminated confounding factors. In other words, We need to have eliminated the possibility that the dependent variable is a result of any external factor except for the one which we are studying."
   ]
  },
  {
   "cell_type": "markdown",
   "metadata": {},
   "source": [
    "#### Number 7: What is the difference between an observational study and an experiment?\n",
    "An observational study is one in which the scientists are simply taking in data based on preexisting circumstances, whereas an experiment is one in which the opposing conditions being studied are carefully and randomly established."
   ]
  },
  {
   "cell_type": "code",
   "execution_count": null,
   "metadata": {
    "collapsed": true
   },
   "outputs": [],
   "source": []
  }
 ],
 "metadata": {
  "kernelspec": {
   "display_name": "Python 3",
   "language": "python",
   "name": "python3"
  },
  "language_info": {
   "codemirror_mode": {
    "name": "ipython",
    "version": 3
   },
   "file_extension": ".py",
   "mimetype": "text/x-python",
   "name": "python",
   "nbconvert_exporter": "python",
   "pygments_lexer": "ipython3",
   "version": "3.6.3"
  }
 },
 "nbformat": 4,
 "nbformat_minor": 2
}
