{
 "cells": [
  {
   "cell_type": "markdown",
   "metadata": {},
   "source": [
    "# Lesson 5\n",
    "### Joshua Rackham"
   ]
  },
  {
   "cell_type": "markdown",
   "metadata": {},
   "source": [
    "#### Question 1"
   ]
  },
  {
   "cell_type": "code",
   "execution_count": 20,
   "metadata": {},
   "outputs": [
    {
     "name": "stdout",
     "output_type": "stream",
     "text": [
      "['Joshua' 'Rackham' 'Minnesota' 'red']\n",
      "['JOSHUA' 'RACKHAM' 'MINNESOTA' 'RED']\n",
      "[1 2 1 0]\n",
      "[6, 7, 9, 3]\n"
     ]
    }
   ],
   "source": [
    "import numpy as np\n",
    "from datascience import *\n",
    "\n",
    "# Create the array using datascience\n",
    "me = make_array('Joshua', 'Rackham', 'Minnesota', 'red')\n",
    "print(me)\n",
    "\n",
    "# Make the array all uppercase\n",
    "me_uppers = np.char.upper(me)\n",
    "print(me_uppers)\n",
    "\n",
    "# Count the number of occurrances of the letter 'a' in each element of my array\n",
    "count_a = np.char.count(me, 'a')\n",
    "print(count_a)\n",
    "\n",
    "# Find length of each element of array\n",
    "sizes = [len(i) for i in me]\n",
    "print(sizes)\n"
   ]
  },
  {
   "cell_type": "markdown",
   "metadata": {},
   "source": [
    "#### Question 2"
   ]
  },
  {
   "cell_type": "code",
   "execution_count": 32,
   "metadata": {},
   "outputs": [
    {
     "name": "stdout",
     "output_type": "stream",
     "text": [
      "[ 1  5  9 13 17 21 25 29 33 37 41]\n",
      "\n",
      "\n",
      "Sum of this array:\n",
      "231\n",
      "\n",
      "\n",
      "Product of this array:\n",
      "7579867420125\n",
      "\n",
      "\n",
      "Natural log of each element of this array:\n",
      "[0.         1.60943791 2.19722458 2.56494936 2.83321334 3.04452244\n",
      " 3.21887582 3.36729583 3.49650756 3.61091791 3.71357207]\n",
      "\n",
      "\n",
      "Sum of differences between each element in this array:\n",
      "40\n"
     ]
    }
   ],
   "source": [
    "# Array including every odd number between (and including) 1 and 41\n",
    "odd_array = np.arange(1, 45, 4)\n",
    "print(odd_array)\n",
    "\n",
    "# Sum of this array\n",
    "print(\"\\n\")\n",
    "print(\"Sum of this array:\")\n",
    "print(np.sum(odd_array))\n",
    "\n",
    "# Product of all elements in this array \n",
    "print(\"\\n\")\n",
    "print(\"Product of this array:\")\n",
    "print(np.product(odd_array))\n",
    "\n",
    "# Natural log of each element of the array\n",
    "print(\"\\n\")\n",
    "print(\"Natural log of each element of this array:\")\n",
    "print(np.log(odd_array))\n",
    "\n",
    "# Sum of difference between elements of the array\n",
    "print(\"\\n\")\n",
    "print(\"Sum of differences between each element in this array:\")\n",
    "diffs = np.diff(odd_array)\n",
    "print(np.sum(diffs))"
   ]
  },
  {
   "cell_type": "code",
   "execution_count": null,
   "metadata": {
    "collapsed": true
   },
   "outputs": [],
   "source": []
  }
 ],
 "metadata": {
  "kernelspec": {
   "display_name": "Python 3",
   "language": "python",
   "name": "python3"
  },
  "language_info": {
   "codemirror_mode": {
    "name": "ipython",
    "version": 3
   },
   "file_extension": ".py",
   "mimetype": "text/x-python",
   "name": "python",
   "nbconvert_exporter": "python",
   "pygments_lexer": "ipython3",
   "version": "3.6.3"
  }
 },
 "nbformat": 4,
 "nbformat_minor": 2
}
