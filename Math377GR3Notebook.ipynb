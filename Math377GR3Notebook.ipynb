{
 "cells": [
  {
   "cell_type": "code",
   "execution_count": 4,
   "metadata": {},
   "outputs": [],
   "source": [
    "from datascience import *\n",
    "import numpy as np\n",
    "from math import *\n",
    "from scipy import stats\n",
    "import matplotlib.pyplot as plt\n",
    "%matplotlib inline"
   ]
  },
  {
   "cell_type": "code",
   "execution_count": 12,
   "metadata": {},
   "outputs": [
    {
     "data": {
      "text/plain": [
       "0.0"
      ]
     },
     "execution_count": 12,
     "metadata": {},
     "output_type": "execute_result"
    }
   ],
   "source": [
    "my_data=np.array([14.062,  1.168,  2.095,  7.502, 13.282,  6.93 ,  0.363,  2.678,\n",
    "        0.766,  4.586,  3.491, 13.76 ,  9.746, 11.26 , 12.75 ,  7.226,\n",
    "        2.027,  0.823,  4.651,  8.462])\n",
    "\n",
    "sigma_max = 2*sum(my_data)\n",
    "\n",
    "null_lh = np.prod(1/5 * e**(-1*(my_data)/5))\n",
    "max_lh = np.prod(1/sigma_max * e**(-1*(my_data)/sigma_max))\n",
    "\n",
    "cap_lambda = null_lh / max_lh\n",
    "\n",
    "stats.chi2.sf(cap_lambda, 1)"
   ]
  },
  {
   "cell_type": "code",
   "execution_count": 20,
   "metadata": {},
   "outputs": [
    {
     "name": "stdout",
     "output_type": "stream",
     "text": [
      "intercept: 46.31739911572654 slope: -0.007676605751863636\n"
     ]
    },
    {
     "data": {
      "text/plain": [
       "23.287581860135628"
      ]
     },
     "execution_count": 20,
     "metadata": {},
     "output_type": "execute_result"
    }
   ],
   "source": [
    "def mse(any_slope,any_intercept):\n",
    "    x=auto.column(4)\n",
    "    y=auto.column(0)\n",
    "    predicted = any_slope*x+any_intercept\n",
    "    return np.mean((y-predicted)**2)\n",
    "slope = minimize(mse)[0]\n",
    "intercept = minimize(mse)[1]\n",
    "print(\"intercept:\", intercept, \"slope:\", slope)\n",
    "\n",
    "slope*3000 + intercept"
   ]
  },
  {
   "cell_type": "code",
   "execution_count": 19,
   "metadata": {},
   "outputs": [
    {
     "data": {
      "text/html": [
       "<table border=\"1\" class=\"dataframe\">\n",
       "    <thead>\n",
       "        <tr>\n",
       "            <th>mpg</th> <th>cylinders</th> <th>displacement</th> <th>horsepower</th> <th>weight</th> <th>acceleration</th> <th>year</th> <th>origin</th> <th>name</th>\n",
       "        </tr>\n",
       "    </thead>\n",
       "    <tbody>\n",
       "        <tr>\n",
       "            <td>18  </td> <td>8        </td> <td>307         </td> <td>130       </td> <td>3504  </td> <td>12          </td> <td>70  </td> <td>1     </td> <td>chevrolet chevelle malibu</td>\n",
       "        </tr>\n",
       "        <tr>\n",
       "            <td>15  </td> <td>8        </td> <td>350         </td> <td>165       </td> <td>3693  </td> <td>11.5        </td> <td>70  </td> <td>1     </td> <td>buick skylark 320        </td>\n",
       "        </tr>\n",
       "        <tr>\n",
       "            <td>18  </td> <td>8        </td> <td>318         </td> <td>150       </td> <td>3436  </td> <td>11          </td> <td>70  </td> <td>1     </td> <td>plymouth satellite       </td>\n",
       "        </tr>\n",
       "        <tr>\n",
       "            <td>16  </td> <td>8        </td> <td>304         </td> <td>150       </td> <td>3433  </td> <td>12          </td> <td>70  </td> <td>1     </td> <td>amc rebel sst            </td>\n",
       "        </tr>\n",
       "        <tr>\n",
       "            <td>17  </td> <td>8        </td> <td>302         </td> <td>140       </td> <td>3449  </td> <td>10.5        </td> <td>70  </td> <td>1     </td> <td>ford torino              </td>\n",
       "        </tr>\n",
       "    </tbody>\n",
       "</table>\n",
       "<p>... (392 rows omitted)</p>"
      ],
      "text/plain": [
       "<IPython.core.display.HTML object>"
      ]
     },
     "metadata": {},
     "output_type": "display_data"
    }
   ],
   "source": [
    "auto=Table().read_table(\"Auto.csv\")\n",
    "auto.show(5)"
   ]
  },
  {
   "cell_type": "code",
   "execution_count": 16,
   "metadata": {},
   "outputs": [
    {
     "data": {
      "text/plain": [
       "<matplotlib.collections.PathCollection at 0x1a24855d30>"
      ]
     },
     "execution_count": 16,
     "metadata": {},
     "output_type": "execute_result"
    },
    {
     "data": {
      "image/png": "[encoded data removed]",
      "text/plain": [
       "<Figure size 432x288 with 1 Axes>"
      ]
     },
     "metadata": {
      "needs_background": "light"
     },
     "output_type": "display_data"
    }
   ],
   "source": [
    "# mpg is column 0\n",
    "# weight is column 4\n",
    "\n",
    "plt.scatter(auto[4], auto[0])"
   ]
  },
  {
   "cell_type": "code",
   "execution_count": null,
   "metadata": {},
   "outputs": [],
   "source": [
    "def mse(any_slope,any_intercept):\n",
    "    x=data.column(4)\n",
    "    y=data.column(0)\n",
    "    predicted = any_slope*x+any_intercept\n",
    "    return np.mean((y-predicted)**2)\n",
    "\n",
    "slopes = []\n",
    "intercepts = []\n",
    "for _ in np.arange(1000):\n",
    "    data = auto.sample()\n",
    "    \n",
    "    "
   ]
  }
 ],
 "metadata": {
  "kernelspec": {
   "display_name": "Python 3",
   "language": "python",
   "name": "python3"
  },
  "language_info": {
   "codemirror_mode": {
    "name": "ipython",
    "version": 3
   },
   "file_extension": ".py",
   "mimetype": "text/x-python",
   "name": "python",
   "nbconvert_exporter": "python",
   "pygments_lexer": "ipython3",
   "version": "3.7.0"
  }
 },
 "nbformat": 4,
 "nbformat_minor": 2
}
