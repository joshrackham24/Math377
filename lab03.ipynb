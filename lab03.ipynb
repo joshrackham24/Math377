{
 "cells": [
  {
   "cell_type": "markdown",
   "metadata": {},
   "source": [
    "# Lab 3: Inference and Capital Punishment, Part 1\n",
    "\n",
    "Welcome to Lab 3! Over the next two labs, you will investigate the data relevant to a hotly debated social issue: the possible influence of capital punishment (the death penalty) on murder rates in the United States.\n",
    "\n",
    "Lab 3 is part 1 of the investigation. Lab 4 is part 2 of the investigation. Lab 4 will be released next week.\n",
    "\n",
    "By the end of lab 4, you should know how to:\n",
    "\n",
    "1. Test whether observed data appears to be a random sample from a distribution.\n",
    "2. Analyze a natural experiment.\n",
    "3. Implement and interpret a sign test.\n",
    "4. Create a function to run a general hypothesis test.\n",
    "5. Analyze visualizations and draw conclusions from them.\n",
    "\n",
    "**Advice.** Develop your answers incrementally. To perform a complicated table manipulation, break it up into steps, perform each step on a different line, give a new name to each result, and check that each intermediate result is what you expect by displaying it. You can add additional names or functions to the provided cells in order to organize your work. \n",
    "\n",
    "To get started, load `datascience`, `numpy`, `plots`, and `okgrade`."
   ]
  },
  {
   "cell_type": "code",
   "execution_count": 1,
   "metadata": {
    "collapsed": true
   },
   "outputs": [],
   "source": [
    "from datascience import *\n",
    "import numpy as np\n",
    "\n",
    "%matplotlib inline\n",
    "import matplotlib.pyplot as plots\n",
    "plots.style.use('fivethirtyeight')"
   ]
  },
  {
   "cell_type": "markdown",
   "metadata": {},
   "source": [
    "## Overview\n",
    "\n",
    "Punishment for crime has many [philosophical justifications](http://plato.stanford.edu/entries/punishment/#ThePun).  An important one is that fear of punishment may *deter* people from committing crimes.\n",
    "\n",
    "In the United States, some jurisdictions execute some people who are convicted of particularly serious crimes, such as murder.  This punishment is called the *death penalty* or *capital punishment*.  The death penalty is controversial, and deterrence has been one focal point of the debate.  There are other reasons to support or oppose the death penalty, but in this project we'll focus on deterrence.\n",
    "\n",
    "The key question about deterrence is: Does instituting a death penalty as a punishment for murder actually reduce the number of murders?\n",
    "\n",
    "You might have a strong intuition in one direction, but the evidence turns out to be surprisingly complex.  Different sides have variously argued that the death penalty has no deterrent effect and that each execution prevents 8 murders, all using statistical arguments!  We'll try to come to our own conclusion.\n",
    "\n",
    "Here is a road map for part 1:\n",
    "\n",
    "1. In section 1, we'll visualize and explore the main dataset we'll be using.\n",
    "2. In section 2, we'll test a hypothesis.\n",
    "\n",
    "#### Data\n",
    "\n",
    "The main data source for this project comes from a [paper](http://cjlf.org/deathpenalty/DezRubShepDeterFinal.pdf) by three researchers, Dezhbakhsh, Rubin, and Shepherd.  The dataset contains rates of various violent crimes for every year 1960-2003 (44 years) in every US state.  The researchers compiled the data from the FBI's Uniform Crime Reports.\n",
    "\n",
    "Since crimes are committed by people, not states, we need to account for the number of people in each state when we're looking at state-level data.  Murder rates are calculated as follows:\n",
    "\n",
    "$$\\text{murder rate for state X in year Y} = \\frac{\\text{number of murders in state X in year Y}}{\\text{population in state X in year Y}}*100000$$\n",
    "\n",
    "(Murder is rare, so we multiply by 100,000 just to avoid dealing with tiny numbers.)"
   ]
  },
  {
   "cell_type": "code",
   "execution_count": 3,
   "metadata": {},
   "outputs": [
    {
     "data": {
      "text/html": [
       "<table border=\"1\" class=\"dataframe\">\n",
       "    <thead>\n",
       "        <tr>\n",
       "            <th>State</th> <th>Year</th> <th>Population</th> <th>Murder Rate</th>\n",
       "        </tr>\n",
       "    </thead>\n",
       "    <tbody>\n",
       "        <tr>\n",
       "            <td>Alaska</td> <td>1960</td> <td>226,167   </td> <td>10.2       </td>\n",
       "        </tr>\n",
       "        <tr>\n",
       "            <td>Alaska</td> <td>1961</td> <td>234,000   </td> <td>11.5       </td>\n",
       "        </tr>\n",
       "        <tr>\n",
       "            <td>Alaska</td> <td>1962</td> <td>246,000   </td> <td>4.5        </td>\n",
       "        </tr>\n",
       "        <tr>\n",
       "            <td>Alaska</td> <td>1963</td> <td>248,000   </td> <td>6.5        </td>\n",
       "        </tr>\n",
       "        <tr>\n",
       "            <td>Alaska</td> <td>1964</td> <td>250,000   </td> <td>10.4       </td>\n",
       "        </tr>\n",
       "        <tr>\n",
       "            <td>Alaska</td> <td>1965</td> <td>253,000   </td> <td>6.3        </td>\n",
       "        </tr>\n",
       "        <tr>\n",
       "            <td>Alaska</td> <td>1966</td> <td>272,000   </td> <td>12.9       </td>\n",
       "        </tr>\n",
       "        <tr>\n",
       "            <td>Alaska</td> <td>1967</td> <td>272,000   </td> <td>9.6        </td>\n",
       "        </tr>\n",
       "        <tr>\n",
       "            <td>Alaska</td> <td>1968</td> <td>277,000   </td> <td>10.5       </td>\n",
       "        </tr>\n",
       "        <tr>\n",
       "            <td>Alaska</td> <td>1969</td> <td>282,000   </td> <td>10.6       </td>\n",
       "        </tr>\n",
       "    </tbody>\n",
       "</table>\n",
       "<p>... (2190 rows omitted)</p>"
      ],
      "text/plain": [
       "State  | Year | Population | Murder Rate\n",
       "Alaska | 1960 | 226,167    | 10.2\n",
       "Alaska | 1961 | 234,000    | 11.5\n",
       "Alaska | 1962 | 246,000    | 4.5\n",
       "Alaska | 1963 | 248,000    | 6.5\n",
       "Alaska | 1964 | 250,000    | 10.4\n",
       "Alaska | 1965 | 253,000    | 6.3\n",
       "Alaska | 1966 | 272,000    | 12.9\n",
       "Alaska | 1967 | 272,000    | 9.6\n",
       "Alaska | 1968 | 277,000    | 10.5\n",
       "Alaska | 1969 | 282,000    | 10.6\n",
       "... (2190 rows omitted)"
      ]
     },
     "execution_count": 3,
     "metadata": {},
     "output_type": "execute_result"
    }
   ],
   "source": [
    "murder_rates = Table.read_table('crime_rates.csv').select('State', 'Year', 'Population', 'Murder Rate')\n",
    "murder_rates.set_format(\"Population\", NumberFormatter)"
   ]
  },
  {
   "cell_type": "markdown",
   "metadata": {},
   "source": [
    "## 1. Murder rates"
   ]
  },
  {
   "cell_type": "markdown",
   "metadata": {},
   "source": [
    "The `murder_rates` table isn't enough to demonstrate an *association* between crimes and punishments. We would like to check for an association between murder rates and the existence of capital punishment, for each pair of a state and a year.\n",
    "\n",
    "**Question 1.1.** <br/>What additional information will we need before we can check for that association? Assign `extra_info` to a Python list (i.e. [#] or [#, #, ...]) containing the number(s) for all of the additional facts below that we *require* in order to check for association.\n",
    "\n",
    "1) What year(s) the death penalty was introduced in each state (if any).\n",
    "\n",
    "2) Day to day data about when murders occurred.\n",
    "\n",
    "3) What year(s) the death penalty was abolished in each state (if any).\n",
    "\n",
    "4) Rates of other crimes in each state."
   ]
  },
  {
   "cell_type": "code",
   "execution_count": 4,
   "metadata": {
    "collapsed": true
   },
   "outputs": [],
   "source": [
    "extra_info = [1, 3]"
   ]
  },
  {
   "cell_type": "markdown",
   "metadata": {},
   "source": [
    "Murder rates vary over time, and different states exhibit different trends. The rates in some states change dramatically from year to year, while others are quite stable. Let's plot the murder rate trends for a few states, just to see the variety.\n",
    "\n",
    "**Question 1.2.** <br/>Draw a line plot with years on the horizontal axis and murder rates on the \n",
    "vertical axis. Include two lines: one for Alaska murder rates and one for Minnesota murder rates. Create this plot using a single call, `ak_mn.plot('Year')`.\n",
    "\n",
    "*Hint*: To create two lines, you will need create the table `ak_mn` with two columns of murder rates, in addition to a column of years. This table will have the following structure:\n",
    "\n",
    "| Year | Murder rate in Alaska | Murder rate in Minnesota |\n",
    "|------|-----------------------|--------------------------|\n",
    "| 1960 | 10.2                  | 1.2                      |\n",
    "| 1961 | 11.5                  | 1                        |\n",
    "| 1962 | 4.5                   | 0.9                      |\n",
    "\n",
    "<center>... (41 rows omitted)</center>"
   ]
  },
  {
   "cell_type": "code",
   "execution_count": 5,
   "metadata": {},
   "outputs": [
    {
     "data": {
      "text/html": [
       "<table border=\"1\" class=\"dataframe\">\n",
       "    <thead>\n",
       "        <tr>\n",
       "            <th>Year</th> <th>Murder rate in Alaska</th> <th>Murder rate in Minnesota</th>\n",
       "        </tr>\n",
       "    </thead>\n",
       "    <tbody>\n",
       "        <tr>\n",
       "            <td>1960</td> <td>10.2                 </td> <td>1.2                     </td>\n",
       "        </tr>\n",
       "        <tr>\n",
       "            <td>1961</td> <td>11.5                 </td> <td>1                       </td>\n",
       "        </tr>\n",
       "        <tr>\n",
       "            <td>1962</td> <td>4.5                  </td> <td>0.9                     </td>\n",
       "        </tr>\n",
       "        <tr>\n",
       "            <td>1963</td> <td>6.5                  </td> <td>1.2                     </td>\n",
       "        </tr>\n",
       "        <tr>\n",
       "            <td>1964</td> <td>10.4                 </td> <td>1.4                     </td>\n",
       "        </tr>\n",
       "        <tr>\n",
       "            <td>1965</td> <td>6.3                  </td> <td>1.4                     </td>\n",
       "        </tr>\n",
       "        <tr>\n",
       "            <td>1966</td> <td>12.9                 </td> <td>2.2                     </td>\n",
       "        </tr>\n",
       "        <tr>\n",
       "            <td>1967</td> <td>9.6                  </td> <td>1.6                     </td>\n",
       "        </tr>\n",
       "        <tr>\n",
       "            <td>1968</td> <td>10.5                 </td> <td>2.2                     </td>\n",
       "        </tr>\n",
       "        <tr>\n",
       "            <td>1969</td> <td>10.6                 </td> <td>1.9                     </td>\n",
       "        </tr>\n",
       "    </tbody>\n",
       "</table>\n",
       "<p>... (34 rows omitted)</p>"
      ],
      "text/plain": [
       "Year | Murder rate in Alaska | Murder rate in Minnesota\n",
       "1960 | 10.2                  | 1.2\n",
       "1961 | 11.5                  | 1\n",
       "1962 | 4.5                   | 0.9\n",
       "1963 | 6.5                   | 1.2\n",
       "1964 | 10.4                  | 1.4\n",
       "1965 | 6.3                   | 1.4\n",
       "1966 | 12.9                  | 2.2\n",
       "1967 | 9.6                   | 1.6\n",
       "1968 | 10.5                  | 2.2\n",
       "1969 | 10.6                  | 1.9\n",
       "... (34 rows omitted)"
      ]
     },
     "execution_count": 5,
     "metadata": {},
     "output_type": "execute_result"
    }
   ],
   "source": [
    "# The next lines are provided for you.  They create a table\n",
    "# containing only the Alaska information and one containing\n",
    "# only the Minnesota information.\n",
    "ak = murder_rates.where('State', 'Alaska').drop('State', 'Population').relabeled(1, 'Murder rate in Alaska')\n",
    "mn = murder_rates.where('State', 'Minnesota').drop('State', 'Population').relabeled(1, 'Murder rate in Minnesota')\n",
    "\n",
    "# Fill in this line to make a table like the one pictured above.\n",
    "ak_mn = ak.join(\"Year\", mn, \"Year\")\n",
    "ak_mn"
   ]
  },
  {
   "cell_type": "code",
   "execution_count": 6,
   "metadata": {},
   "outputs": [
    {
     "data": {
      "image/png": "[encoded data removed]",
      "text/plain": [
       "<matplotlib.figure.Figure at 0x10b9e1390>"
      ]
     },
     "metadata": {},
     "output_type": "display_data"
    }
   ],
   "source": [
    "# Draw your line plot here\n",
    "ak_mn.plot(\"Year\")"
   ]
  },
  {
   "cell_type": "markdown",
   "metadata": {},
   "source": [
    "What about the murder rates of other states? Say, for example, California and New York? Fill in the cell below to plot the murder rates of different pairs of states. **Note:** this should use similar code to question 1.2, with only the variable names changed. The cell below will not be graded, but it creates a cool interactive module!"
   ]
  },
  {
   "cell_type": "code",
   "execution_count": 7,
   "metadata": {},
   "outputs": [
    {
     "data": {
      "application/vnd.jupyter.widget-view+json": {
       "model_id": "4e9b12811cfa4520a0c52e8796b719a8",
       "version_major": 2,
       "version_minor": 0
      },
      "text/plain": [
       "A Jupyter Widget"
      ]
     },
     "metadata": {},
     "output_type": "display_data"
    }
   ],
   "source": [
    "# Compare the murder rates of any two states by filling in the blanks below\n",
    "\n",
    "from ipywidgets import interact, interactive, fixed, interact_manual\n",
    "import ipywidgets as widgets\n",
    "\n",
    "def state(state1, state2):\n",
    "    state1_table = murder_rates.where('State', state1).drop('State', 'Population').relabeled(1, 'Murder rate in {}'.format(state1))\n",
    "    state2_table = murder_rates.where('State', state2).drop('State', 'Population').relabeled(1, 'Murder rate in {}'.format(state2))\n",
    "    s1_s2 = state1_table.join(\"Year\", state2_table, \"Year\")\n",
    "    s1_s2.plot('Year')\n",
    "    plots.show()\n",
    "\n",
    "states_array = murder_rates.group('State').column('State')\n",
    "\n",
    "_ = interact(state,\n",
    "             state1=widgets.Dropdown(options=list(states_array),value='California'),\n",
    "             state2=widgets.Dropdown(options=list(states_array),value='New York')\n",
    "            )"
   ]
  },
  {
   "cell_type": "markdown",
   "metadata": {},
   "source": [
    "**Question 1.3.** <br/>Implement the function `most_murderous`, which takes a year (an integer) as its argument. It does two things:\n",
    "1. It draws a horizontal bar chart of the 5 states that had the highest murder rates in that year.\n",
    "2. It returns an array of the names of these states in order of *increasing* murder rate.\n",
    "\n",
    "Assume that the argument is a year in `murder_rates`. You do not need to check that it is."
   ]
  },
  {
   "cell_type": "code",
   "execution_count": 8,
   "metadata": {
    "manual_problem_id": "murder_rates_3"
   },
   "outputs": [
    {
     "data": {
      "text/plain": [
       "array(['California', 'Mississippi', 'Texas', 'New York', 'Louisiana'],\n",
       "      dtype='<U14')"
      ]
     },
     "execution_count": 8,
     "metadata": {},
     "output_type": "execute_result"
    },
    {
     "data": {
      "image/png": "[encoded data removed]",
      "text/plain": [
       "<matplotlib.figure.Figure at 0x10ba05748>"
      ]
     },
     "metadata": {},
     "output_type": "display_data"
    }
   ],
   "source": [
    "def most_murderous(year):\n",
    "    # Assign most to a table of the most murderous states this year in ascending order.\n",
    "    data_for_year = murder_rates.where(\"Year\", are.equal_to(year))\n",
    "    sorted_data = data_for_year.sort(\"Murder Rate\", descending=False)\n",
    "    top_5 = sorted_data.take(np.arange(45, 50))\n",
    "    top_5.barh('State', 'Murder Rate')\n",
    "    return top_5.column('State')\n",
    "\n",
    "most_murderous(1990) # California, Mississippi, ..., "
   ]
  },
  {
   "cell_type": "markdown",
   "metadata": {},
   "source": [
    "**Question 1.4.** <br/>How many more people were murdered in California in 1988 than in 1975? Assign `ca_change` to the answer.\n",
    "\n",
    "*Hint*: Make sure you understand how murder rate is calculated. Recall the formula given at the beginning of the project:\n",
    "\n",
    "$$\\text{murder rate for state X in year Y} = \\frac{\\text{number of murders in state X in year Y}}{\\text{population in state X in year Y}}*100000$$\n",
    "\n",
    "Feel free to define new variables and use additional lines to compute your answer. However, **make sure not to change any existing variable names**."
   ]
  },
  {
   "cell_type": "code",
   "execution_count": 9,
   "metadata": {
    "for_assignment_type": "student"
   },
   "outputs": [
    {
     "data": {
      "text/plain": [
       "726.0"
      ]
     },
     "execution_count": 9,
     "metadata": {},
     "output_type": "execute_result"
    }
   ],
   "source": [
    "ca = murder_rates.where('State', are.equal_to('California'))\n",
    "murdered_in_88 = ca.where(\"Year\", 1988).column(3)/100000 * ca.where(\"Year\", 1988).column(2)\n",
    "murdered_in_75 = ca.where(\"Year\", 1975).column(3)/100000 * ca.where(\"Year\", 1975).column(2)\n",
    "\n",
    "ca_change = murdered_in_88[0] - murdered_in_75[0]\n",
    "\n",
    "np.round(ca_change)"
   ]
  },
  {
   "cell_type": "markdown",
   "metadata": {},
   "source": [
    "# 2. Changes in Murder Rates\n",
    "\n",
    "In this section, we'll see how to test this null hypothesis: \"For a set of U.S. states, the murder rate was equally likely to go up or down each year.\"\n",
    "\n",
    "Murder rates vary widely across states and years, presumably due to the vast array of differences among states and across US history. Rather than attempting to analyze rates themselves, here we will restrict our analysis to whether or not murder rates increased or decreased over certain time spans. **We will not concern ourselves with how much rates increased or decreased; only the direction of the changes** - whether they increased or decreased."
   ]
  },
  {
   "cell_type": "markdown",
   "metadata": {},
   "source": [
    "The `np.diff` function takes an array of values and computes the differences between adjacent items of a list or array as such:\n",
    "\n",
    "    [item 1 - item 0 , item 2 - item 1 , item 3 - item 2, ...]\n",
    "\n",
    "Instead, we may wish to compute the difference between items that are two positions apart. For example, given a 5-element array, we may want:\n",
    "\n",
    "    [item 2 - item 0 , item 3 - item 1 , item 4 - item 2]\n",
    "    \n",
    "The `diff_n` function below computes this result. Don't worry if the implementation uses unfamiliar features of Python, as long as you understand its behavior."
   ]
  },
  {
   "cell_type": "code",
   "execution_count": 10,
   "metadata": {},
   "outputs": [
    {
     "data": {
      "text/plain": [
       "array([  99,  990, 9900])"
      ]
     },
     "execution_count": 10,
     "metadata": {},
     "output_type": "execute_result"
    }
   ],
   "source": [
    "def diff_n(values, n):\n",
    "    return np.array(values)[n:] - np.array(values)[:-n]\n",
    "\n",
    "diff_n(make_array(1, 10, 100, 1000, 10000), 2)"
   ]
  },
  {
   "cell_type": "markdown",
   "metadata": {},
   "source": [
    "**Question 2.1.** <br/>Implement the function `two_year_changes` that takes an array of murder rates for a state, ordered by increasing year. For all two-year periods (e.g., from 1960 to 1962), it computes and returns **the number of increases minus the number of decreases.**\n",
    "\n",
    "For example, the array `r = make_array(10, 7, 12, 9, 13, 9, 11)` contains 3 increases (10 to 12, 7 to 9, and 12 to 13), 1 decrease (13 to 11), and 1 change that is neither an increase or decrease (9 to 9). Therefore, `two_year_changes(r)` would return 2, the difference between 3 increases and 1 decrease.\n",
    "\n",
    "*Hint*: Consider using the `diff_n` function."
   ]
  },
  {
   "cell_type": "code",
   "execution_count": 11,
   "metadata": {},
   "outputs": [
    {
     "name": "stdout",
     "output_type": "stream",
     "text": [
      "Alaska: -5\n",
      "Minnesota: 6\n"
     ]
    }
   ],
   "source": [
    "def two_year_changes(rates):\n",
    "    \"Return the number of increases minus the number of decreases after two years.\"\n",
    "    return np.count_nonzero(diff_n(rates, 2)>0) - np.count_nonzero(diff_n(rates, 2)<0)\n",
    "\n",
    "print('Alaska:',    two_year_changes(ak.column('Murder rate in Alaska')))\n",
    "print('Minnesota:', two_year_changes(mn.column('Murder rate in Minnesota')))"
   ]
  },
  {
   "cell_type": "markdown",
   "metadata": {},
   "source": [
    "We can use `two_year_changes` to summarize whether rates are mostly increasing or decreasing over time for some state or group of states. Let's see how it varies across the 50 US states.\n",
    "\n",
    "**Question 2.2.** <br/>Assign `changes_by_state` to a table with one row per state that has two columns: the `State` name and the `Murder Rate two_year_changes` statistic computed across all years in our data set for that state.  Its first 2 rows should look like this:\n",
    "\n",
    "|State|Murder Rate two_year_changes|\n",
    "|-|-|\n",
    "|Alabama|-6|\n",
    "|Alaska|-5||\n",
    "\n",
    "<center>... (48 rows omitted)</center>\n"
   ]
  },
  {
   "cell_type": "code",
   "execution_count": 12,
   "metadata": {},
   "outputs": [
    {
     "data": {
      "text/html": [
       "<table border=\"1\" class=\"dataframe\">\n",
       "    <thead>\n",
       "        <tr>\n",
       "            <th>State</th> <th>Murder Rate two_year_changes</th>\n",
       "        </tr>\n",
       "    </thead>\n",
       "    <tbody>\n",
       "        <tr>\n",
       "            <td>Alabama    </td> <td>-6                          </td>\n",
       "        </tr>\n",
       "        <tr>\n",
       "            <td>Alaska     </td> <td>-5                          </td>\n",
       "        </tr>\n",
       "        <tr>\n",
       "            <td>Arizona    </td> <td>1                           </td>\n",
       "        </tr>\n",
       "        <tr>\n",
       "            <td>Arkansas   </td> <td>-1                          </td>\n",
       "        </tr>\n",
       "        <tr>\n",
       "            <td>California </td> <td>17                          </td>\n",
       "        </tr>\n",
       "        <tr>\n",
       "            <td>Colorado   </td> <td>-4                          </td>\n",
       "        </tr>\n",
       "        <tr>\n",
       "            <td>Connecticut</td> <td>4                           </td>\n",
       "        </tr>\n",
       "        <tr>\n",
       "            <td>Delaware   </td> <td>-3                          </td>\n",
       "        </tr>\n",
       "        <tr>\n",
       "            <td>Florida    </td> <td>-6                          </td>\n",
       "        </tr>\n",
       "        <tr>\n",
       "            <td>Georgia    </td> <td>-3                          </td>\n",
       "        </tr>\n",
       "    </tbody>\n",
       "</table>\n",
       "<p>... (40 rows omitted)</p>"
      ],
      "text/plain": [
       "State       | Murder Rate two_year_changes\n",
       "Alabama     | -6\n",
       "Alaska      | -5\n",
       "Arizona     | 1\n",
       "Arkansas    | -1\n",
       "California  | 17\n",
       "Colorado    | -4\n",
       "Connecticut | 4\n",
       "Delaware    | -3\n",
       "Florida     | -6\n",
       "Georgia     | -3\n",
       "... (40 rows omitted)"
      ]
     },
     "execution_count": 12,
     "metadata": {},
     "output_type": "execute_result"
    }
   ],
   "source": [
    "changes_by_state = murder_rates.group(\"State\", two_year_changes).drop(1, 2)\n",
    "changes_by_state"
   ]
  },
  {
   "cell_type": "code",
   "execution_count": 13,
   "metadata": {},
   "outputs": [
    {
     "data": {
      "image/png": "[encoded data removed]",
      "text/plain": [
       "<matplotlib.figure.Figure at 0x10449bda0>"
      ]
     },
     "metadata": {},
     "output_type": "display_data"
    }
   ],
   "source": [
    "# Here is a histogram of the two-year changes for the states.\n",
    "# Since there are 50 states, each state contributes 2% to one bar.\n",
    "changes_by_state.hist(\"Murder Rate two_year_changes\", bins=np.arange(-11, 19, 2))"
   ]
  },
  {
   "cell_type": "markdown",
   "metadata": {},
   "source": [
    "Some states have more increases than decreases (a positive change), while some have more decreases than increases (a negative change). \n",
    "\n",
    "**Question 2.3.** <br/>Assign `total_changes` to the total increases minus the total decreases for all two-year periods and all states in our data set. For example, if the murder rate in Ohio went up 23 times and fell 17 times, the total change for Ohio would be 6. We want the total value for all the states together."
   ]
  },
  {
   "cell_type": "code",
   "execution_count": 14,
   "metadata": {},
   "outputs": [
    {
     "name": "stdout",
     "output_type": "stream",
     "text": [
      "Total increases minus total decreases, across all states and years: 45\n"
     ]
    }
   ],
   "source": [
    "total_changes = np.sum(changes_by_state.column(\"Murder Rate two_year_changes\"))\n",
    "print('Total increases minus total decreases, across all states and years:', total_changes)"
   ]
  },
  {
   "cell_type": "markdown",
   "metadata": {},
   "source": [
    "\"More increases than decreases,\" one person exclaims, \"Murder rates tend to go up across two-year periods. What dire times we live in.\"\n",
    "\n",
    "\"Not so fast,\" another person replies, \"Even if murder rates just moved up and down uniformly at random, there would be some difference between the increases and decreases. There were a lot of states and a lot of years, so there were many chances for changes to happen. If state murder rates increase and decrease at random with equal probability, perhaps this difference was simply due to chance!\"\n",
    "\n",
    "**Question 2.4.** <br/>What is the total number of distinct pairs of a state and a two-year period? Assign `num_changes` to this value.\n",
    "\n",
    "For example, Alaska during 1968 to 1970 would count as one distinct pair. Considering all states and all possible two-year periods, how many such pairs are there in total? "
   ]
  },
  {
   "cell_type": "code",
   "execution_count": 15,
   "metadata": {},
   "outputs": [
    {
     "data": {
      "text/plain": [
       "2100"
      ]
     },
     "execution_count": 15,
     "metadata": {},
     "output_type": "execute_result"
    }
   ],
   "source": [
    "num_changes = len(diff_n(ak.column(\"Murder rate in Alaska\"), 2))*50\n",
    "num_changes"
   ]
  },
  {
   "cell_type": "markdown",
   "metadata": {},
   "source": [
    "We now have enough information to perform a hypothesis test.\n",
    "\n",
    "> **Null Hypothesis**: State murder rates increase and decrease over two-year periods as if \n",
    "\"increase\" or \"decrease\" were sampled at random from a uniform distribution, like a fair coin flip.\n",
    "\n",
    "Murder rates can be more likely to go up or more likely to go down. Since we observed 45 more increases than decreases for all two year periods in our dataset, we formulate an alternative hypothesis in accordance with our suspicion:\n",
    "\n",
    "> **Alternative Hypothesis**: State murder rates are more likely to increase over two-year periods.\n",
    "\n",
    "If we had observed more decreases than increases, our alternative hypothesis would have been defined accordingly (that state murder rates are more likely to *decrease*). This is typical in statistical testing - we first observe a trend in the data and then run a hypothesis test to confirm or reject that trend.\n",
    "\n",
    "*Technical note*: These changes in murder rates are not random samples from any population. They describe all murders in all states over all recent years. However, we can imagine that history could have been different, and that the observed changes are the values observed in only one possible world: the one that happened to occur. In this sense, we can evaluate whether the observed \"total increases minus total decreases\" is consistent with a hypothesis that increases and decreases are drawn at random from a uniform distribution.\n",
    "\n",
    "*Important requirements for our test statistic:* We want to choose a test statistic for which large positive values are evidence in favor of the alternative hypothesis, and other values are evidence in favor of the null hypothesis. This is because once we've determined the direction of our alternative hypothesis, we only care about the tail in that direction. If, for example, our p-value cutoff was 5%, we'd check to see if our observed test statistic fell within the largest 5% of values in our null hypothesis distribution. \n",
    "\n",
    "Our test statistic should depend only on whether murder rates increased or decreased, not on the size of any change. Thus we choose:\n",
    "\n",
    "> **Test Statistic**: The number of increases minus the number of decreases"
   ]
  },
  {
   "cell_type": "markdown",
   "metadata": {},
   "source": [
    "The cell below samples increases and decreases at random from a uniform distribution 100 times. The final column of the resulting table gives the number of increases and decreases that resulted from sampling in this way. **Using `sample_from_distribution` is faster than using `sample` followed by `group` to compute the same result.**"
   ]
  },
  {
   "cell_type": "code",
   "execution_count": 16,
   "metadata": {},
   "outputs": [
    {
     "data": {
      "text/html": [
       "<table border=\"1\" class=\"dataframe\">\n",
       "    <thead>\n",
       "        <tr>\n",
       "            <th>Change</th> <th>Chance</th> <th>Chance sample</th>\n",
       "        </tr>\n",
       "    </thead>\n",
       "    <tbody>\n",
       "        <tr>\n",
       "            <td>Increase</td> <td>0.5   </td> <td>39           </td>\n",
       "        </tr>\n",
       "        <tr>\n",
       "            <td>Decrease</td> <td>0.5   </td> <td>61           </td>\n",
       "        </tr>\n",
       "    </tbody>\n",
       "</table>"
      ],
      "text/plain": [
       "Change   | Chance | Chance sample\n",
       "Increase | 0.5    | 39\n",
       "Decrease | 0.5    | 61"
      ]
     },
     "execution_count": 16,
     "metadata": {},
     "output_type": "execute_result"
    }
   ],
   "source": [
    "uniform = Table().with_columns(\n",
    "    \"Change\", make_array('Increase', 'Decrease'),\n",
    "    \"Chance\", make_array(0.5,        0.5))\n",
    "uniform.sample_from_distribution('Chance', 100)"
   ]
  },
  {
   "cell_type": "markdown",
   "metadata": {},
   "source": [
    "**Question 2.5.** <br/>Complete the simulation below, which samples `num_changes` increases/decreases at random many times and forms an empirical distribution of your test statistic under the null hypothesis.  Your job is to\n",
    "* fill in the function `simulate_under_null`, which simulates a single sample under the null hypothesis, and\n",
    "* fill in its argument when it's called below."
   ]
  },
  {
   "cell_type": "code",
   "execution_count": 17,
   "metadata": {
    "for_assignment_type": "student",
    "manual_problem_id": "changes_in_murder_rates_5"
   },
   "outputs": [
    {
     "data": {
      "text/html": [
       "<table border=\"1\" class=\"dataframe\">\n",
       "    <thead>\n",
       "        <tr>\n",
       "            <th>Test statistic under null</th>\n",
       "        </tr>\n",
       "    </thead>\n",
       "    <tbody>\n",
       "        <tr>\n",
       "            <td>34                       </td>\n",
       "        </tr>\n",
       "        <tr>\n",
       "            <td>32                       </td>\n",
       "        </tr>\n",
       "        <tr>\n",
       "            <td>2                        </td>\n",
       "        </tr>\n",
       "        <tr>\n",
       "            <td>-104                     </td>\n",
       "        </tr>\n",
       "        <tr>\n",
       "            <td>26                       </td>\n",
       "        </tr>\n",
       "        <tr>\n",
       "            <td>26                       </td>\n",
       "        </tr>\n",
       "        <tr>\n",
       "            <td>-14                      </td>\n",
       "        </tr>\n",
       "        <tr>\n",
       "            <td>34                       </td>\n",
       "        </tr>\n",
       "        <tr>\n",
       "            <td>14                       </td>\n",
       "        </tr>\n",
       "        <tr>\n",
       "            <td>-34                      </td>\n",
       "        </tr>\n",
       "    </tbody>\n",
       "</table>\n",
       "<p>... (4990 rows omitted)</p>"
      ],
      "text/plain": [
       "Test statistic under null\n",
       "34\n",
       "32\n",
       "2\n",
       "-104\n",
       "26\n",
       "26\n",
       "-14\n",
       "34\n",
       "14\n",
       "-34\n",
       "... (4990 rows omitted)"
      ]
     },
     "execution_count": 17,
     "metadata": {},
     "output_type": "execute_result"
    }
   ],
   "source": [
    "def simulate_under_null(num_chances_to_change):\n",
    "    \"\"\"Simulates some number changing several times, with an equal\n",
    "    chance to increase or decrease.  Returns the value of our\n",
    "    test statistic for these simulated changes.\n",
    "    \n",
    "    num_chances_to_change is the number of times the number changes.\n",
    "    \"\"\"\n",
    "    sample = uniform.sample_from_distribution('Chance', num_chances_to_change)\n",
    "    return sample.column(2).item(0) - sample.column(2).item(1)\n",
    "\n",
    "uniform_samples = make_array()\n",
    "for i in np.arange(5000):\n",
    "    uniform_samples = np.append(uniform_samples, simulate_under_null(num_changes))\n",
    "\n",
    "simulated_changes = Table().with_column('Test statistic under null', uniform_samples)\n",
    "simulated_changes"
   ]
  },
  {
   "cell_type": "code",
   "execution_count": 18,
   "metadata": {},
   "outputs": [
    {
     "data": {
      "image/png": "[encoded data removed]",
      "text/plain": [
       "<matplotlib.figure.Figure at 0x104439898>"
      ]
     },
     "metadata": {},
     "output_type": "display_data"
    }
   ],
   "source": [
    "# Run this cell to visualize the empirical distribution of \n",
    "# the test statistic under the null hypothesis.\n",
    "simulated_changes.hist(0, bins=np.arange(-100, 400+25, 25))"
   ]
  },
  {
   "cell_type": "markdown",
   "metadata": {},
   "source": [
    "**Question 2.6.** Looking at this histogram, draw a conclusion about whether murder rates basically increase as often as they decrease. (Remember that we're only concerned with the *postive direction* because it supports our alternative hypothesis.) You **do not** need to compute a P-value for this question.\n",
    "\n",
    "First, set `which_side` to `\"Right\"` or `\"Left\"` depending on which side of the histogram you need to look at to make your conclusion. \n",
    "\n",
    "Then, set `reject_null` to `True` if rates increase more than they decrease, and we can reject the null hypothesis. Set `reject_null` to `False` if the observed difference is typical under the null hypothesis."
   ]
  },
  {
   "cell_type": "code",
   "execution_count": 19,
   "metadata": {
    "collapsed": true
   },
   "outputs": [],
   "source": [
    "which_side = \"Right\"\n",
    "reject_null = simulated_changes.where(\"Test statistic under null\", are.above(0)).num_rows > simulated_changes.where(\"Test statistic under null\", are.below(0)).num_rows"
   ]
  },
  {
   "cell_type": "markdown",
   "metadata": {},
   "source": [
    "## Submission"
   ]
  },
  {
   "cell_type": "markdown",
   "metadata": {},
   "source": [
    "You're finished with lab 3! We'll pick off from here next week in lab 4 to finish our investigation of capital punishment in the United States.\n",
    "\n",
    "In order to successfully submit your assignment, follow these steps...\n",
    "- **IMPORTANT** Before you do anything, **Save and Checkpoint** from the `File` menu. Please do this first before running the cell below,\n",
    "- **run all the tests and verify that they all pass** (the next cell has a shortcut for that), \n",
    "- **Review the notebook one last time, we will be grading the final state of your notebook** If you make any changes, please **Save and Checkpoint** again."
   ]
  },
  {
   "cell_type": "markdown",
   "metadata": {},
   "source": [
    "Documentation: Cheyenne Krampitz showed me how to do question 2.1, 2.2, and some syntax for question 1.4, that I needed to do a join on question 1.2. I also didn't understand what 2.4 was asking for, so she showed me that and how to do 2.5 and 2.6"
   ]
  }
 ],
 "metadata": {
  "kernelspec": {
   "display_name": "Python 3",
   "language": "python",
   "name": "python3"
  },
  "language_info": {
   "codemirror_mode": {
    "name": "ipython",
    "version": 3
   },
   "file_extension": ".py",
   "mimetype": "text/x-python",
   "name": "python",
   "nbconvert_exporter": "python",
   "pygments_lexer": "ipython3",
   "version": "3.6.3"
  }
 },
 "nbformat": 4,
 "nbformat_minor": 1
}
