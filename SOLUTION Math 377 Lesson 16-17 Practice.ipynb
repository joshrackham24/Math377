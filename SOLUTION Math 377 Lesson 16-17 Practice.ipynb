{
 "cells": [
  {
   "cell_type": "markdown",
   "metadata": {},
   "source": [
    "## Probability Practice (Joint Probability, Transformations, Moment Generating Functions)\n",
    "\n",
    "## (Solution)\n",
    "\n",
    "\n",
    "### Lt Col Horton\n",
    "\n",
    "In this notebook, I will provide some practice problems that will help reinforce your understanding of other probability concepts from this block (joint distributions, transformations, and moment generating functions). \n"
   ]
  },
  {
   "cell_type": "markdown",
   "metadata": {},
   "source": [
    "#### Problem 1"
   ]
  },
  {
   "cell_type": "markdown",
   "metadata": {},
   "source": [
    "Let $X$ and $Y$ be continuous random variables defined by the following joint pdf:\n",
    "\n",
    "$$\n",
    "f_{X,Y}(x,y)=kxy\n",
    "$$\n",
    "\n",
    "where $0\\leq x \\leq 2$ and $0\\leq y \\leq x$. \n",
    "\n",
    "Note that this is much different than the other joint examples we have seen thus far. The domain of $y$ is dependent on $x$. \n",
    "\n",
    "**_1.1_** Find the value of $k$ that makes $f$ a valid pdf.\n",
    "\n",
    "**_1.2_** Find $P(X\\leq 1, Y<0.5)$.\n",
    "\n",
    "**_1.3_** Find the marginal pdfs of $X$ and $Y$ ($f_X(x)$ and $f_Y(y)$). \n",
    "\n",
    "**_1.4_** Find $P(Y\\leq 1 \\mid X \\geq 1)$.\n",
    "\n",
    "**_1.5_** Find $P(Y \\leq 1)$.  "
   ]
  },
  {
   "cell_type": "markdown",
   "metadata": {},
   "source": [
    "**_1.1_**\n",
    "$$\n",
    "\\int_0^2 \\int_0^x kxy \\,dy\\,dx =k\\int_0^2 x\\frac{y^2}{2} \\bigg|_0^x \\,dx = \\int_0^2 \\frac{kx^3}{2} \\,dx = \\frac{kx^4}{8}\\bigg|_0^2 = 2k = 1\n",
    "$$\n",
    "\n",
    "Thus, $k=\\frac{1}{2}$."
   ]
  },
  {
   "cell_type": "markdown",
   "metadata": {},
   "source": [
    "**_1.2_**\n",
    "$$\n",
    "P(X\\leq 1, Y <0.5)=\\int_0^{1/2} \\int_0^x \\frac{1}{2}xy\\,dy\\,dx + \\int_{1/2}^1 \\int_0^x \\frac{1}{2}xy\\,dy\\,dx = \\int_0^{1/2} \\frac{x^3}{4}\\,dx + \\int_{1/2}^1 \\frac{x}{16}\\,dx = 0.027\n",
    "$$"
   ]
  },
  {
   "cell_type": "markdown",
   "metadata": {},
   "source": [
    "**_1.3_**\n",
    "\n",
    "$$\n",
    "f_X(x)=\\int_0^x \\frac{1}{2}xy\\,dy = \\frac{xy^2}{4}\\bigg|_0^x = \\frac{x^3}{4}\n",
    "$$\n",
    "\n",
    "where $0\\leq x \\leq 2$. \n",
    "\n",
    "$$\n",
    "f_Y(y)=\\int_y^2 \\frac{1}{2}xy\\,dy = \\frac{x^2y}{4}\\bigg|_y^2 = y- \\frac{y^3}{4}\n",
    "$$\n",
    "\n",
    "where $0\\leq y \\leq 2$. "
   ]
  },
  {
   "cell_type": "markdown",
   "metadata": {},
   "source": [
    "**_1.4_** \n",
    "$$\n",
    "P(Y\\leq 1 \\mid X \\geq 1) = \\frac{P(Y\\leq 1, X\\geq 1)}{P(X\\geq 1)} = \\frac{\\int_0^1\\int_1^2 \\frac{1}{2}xy\\,dx\\,dy}{\\int_1^2 \\frac{x^3}{4}\\,dx}= \\frac{3/8}{15/16} = \\frac{2}{5}\n",
    "$$"
   ]
  },
  {
   "cell_type": "markdown",
   "metadata": {},
   "source": [
    "**_1.5_** \n",
    "$$\n",
    "P(Y\\leq 1) = \\int_0^1 y-\\frac{y^3}{4} \\,dy = \\frac{7}{16}\n",
    "$$"
   ]
  },
  {
   "cell_type": "markdown",
   "metadata": {},
   "source": [
    "#### Problem 2"
   ]
  },
  {
   "cell_type": "markdown",
   "metadata": {},
   "source": [
    "Let $X_1$ and $X_2$ be independent, continuous random variables with the exponential distribution, with constant parameter $\\lambda$. \n",
    "\n",
    "$$\n",
    "X_1 \\sim \\textsf{Exp}(\\lambda)\n",
    "$$\n",
    "$$\n",
    "X_2 \\sim \\textsf{Exp}(\\lambda)\n",
    "$$\n",
    "\n",
    "\n",
    "**_2.1_** Find the pdf of $Y$ where $Y=X_1^2$. (Hint: Use the cdf transformation method.) Bonus if you can tell me the name and parameters of this distribution. \n",
    "\n",
    "**_2.2_** Find the distribution of $Z=X_1+X_2$ (name of distribution and parameters). \n",
    "\n",
    "**_2.3_** Use the result of **_2.2_** to find the expected value and variance of $Z$. \n",
    "\n",
    "**_2.4_** Suppose $X_1$ and $X_2$ had different values of $\\lambda$ (say $\\lambda_1$ and $\\lambda_2$). What is the distribution of $X_1 + X_2$? \n",
    "\n"
   ]
  },
  {
   "cell_type": "markdown",
   "metadata": {},
   "source": [
    "Helpful information: \n",
    "\n",
    "Exponential distribution pdf: $f_X(x)=\\lambda e^{-\\lambda x}$, for $x>0$. \n",
    "\n",
    "Exponential distribution mgf: $M_X(t)= \\frac{\\lambda}{\\lambda - t}$. \n",
    "\n",
    "Gamma distribution pdf: $f_X(x)=\\frac{\\lambda^\\alpha}{\\Gamma(\\alpha)} x^{\\alpha-1} e^{-\\lambda x}$, for $x>0$. \n",
    "\n",
    "Gamma distribution mgf: $M_X(t)= \\left(\\frac{\\lambda}{\\lambda - t}\\right)^\\alpha$. \n"
   ]
  },
  {
   "cell_type": "markdown",
   "metadata": {},
   "source": [
    "**_2.1_** \n",
    "\n",
    "First, we find the cdf of $X_1$:\n",
    "\n",
    "$$\n",
    "F_{X_1}(x)=1-e^{-\\lambda x}\n",
    "$$\n",
    "\n",
    "Next, we use the cdf transformation method:\n",
    "\n",
    "$$\n",
    "F_Y(y)=P(Y\\leq y)=P(X_1^2 \\leq y) = P(X_1 \\leq \\sqrt{y}) = 1-e^{-\\lambda \\sqrt{y}}\n",
    "$$\n",
    "\n",
    "$$\n",
    "f_Y(y)=\\frac{\\,d}{\\,dy}F_Y(y)=\\frac{\\lambda}{2\\sqrt{y}}e^{-\\lambda\\sqrt{y}}\n",
    "$$\n",
    "\n",
    "for $y>0$. \n",
    "\n",
    "It turns out that $X_1^2$ follows the Weibull distribution with parameters $\\alpha=\\frac{1}{2}$ and $\\beta=\\frac{1}{\\lambda^2}$. "
   ]
  },
  {
   "cell_type": "markdown",
   "metadata": {},
   "source": [
    "**_2.2_**\n",
    "\n",
    "Since $X_1$ and $X_2$ are independent, we know that the moment generating function of their sum is the product of their individual moment generating functions:\n",
    "\n",
    "$$\n",
    "M_{X_1+X_2}(t)=M_{X_1}(t)M_{X_2}(t)=\\frac{\\lambda}{\\lambda-t}\\frac{\\lambda}{\\lambda-t} = \\left(\\frac{\\lambda}{\\lambda-t}\\right)^2\n",
    "$$\n",
    "\n",
    "This is the moment generating function of a random variable with the Gamma distribution with parameters $\\lambda$ and $\\alpha=2$. "
   ]
  },
  {
   "cell_type": "markdown",
   "metadata": {},
   "source": [
    "**_2.3_**\n",
    "\n",
    "$$\n",
    "E(Z)=\\frac{\\,d}{\\,dt}\\left(\\frac{\\lambda}{\\lambda-t}\\right)^2\\bigg|_{t=0} = \\frac{2\\lambda^2}{(\\lambda-t)^3}\\bigg|_{t=0} = \\frac{2}{\\lambda}\n",
    "$$\n",
    "\n",
    "$$\n",
    "E(Z^2)=\\frac{\\,d^2}{\\,dt^2}\\left(\\frac{\\lambda}{\\lambda-t}\\right)^2\\bigg|_{t=0} = \\frac{6\\lambda^2}{(\\lambda-t)^4}\\bigg|_{t=0} = \\frac{6}{\\lambda^2}\n",
    "$$\n",
    "\n",
    "$$\n",
    "V(Z^2)=E(Z^2)-[E(Z)]^2 = \\frac{6}{\\lambda^2}-\\frac{4}{\\lambda^2} = \\frac{2}{\\lambda^2}\n",
    "$$"
   ]
  },
  {
   "cell_type": "markdown",
   "metadata": {},
   "source": [
    "**_2.4_**\n",
    "\n",
    "If $X_1$ and $X_2$ have different values of $\\lambda$ (say $\\lambda_1$ and $\\lambda_2$), then the moment generating function of $X_1+X_2$ is given by:\n",
    "\n",
    "$$\n",
    "M_{X_1+X_2}(t)=M_{X_1}(t)M_{X_2}(t)=\\frac{\\lambda_1}{\\lambda_1-t}\\frac{\\lambda_2}{\\lambda_2-t} =\\frac{\\lambda_1\\lambda_2}{(\\lambda_1-t)(\\lambda_2-t)}\n",
    "$$\n",
    "\n",
    "This moment generating function is not recognizable. Therefore, I can't say what distribution $X_1+X_2$ follows. "
   ]
  }
 ],
 "metadata": {
  "kernelspec": {
   "display_name": "Python 3",
   "language": "python",
   "name": "python3"
  },
  "language_info": {
   "codemirror_mode": {
    "name": "ipython",
    "version": 3
   },
   "file_extension": ".py",
   "mimetype": "text/x-python",
   "name": "python",
   "nbconvert_exporter": "python",
   "pygments_lexer": "ipython3",
   "version": "3.6.4"
  }
 },
 "nbformat": 4,
 "nbformat_minor": 2
}
