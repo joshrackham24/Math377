{
 "cells": [
  {
   "cell_type": "code",
   "execution_count": 2,
   "metadata": {},
   "outputs": [],
   "source": [
    "from scipy import stats"
   ]
  },
  {
   "cell_type": "markdown",
   "metadata": {},
   "source": [
    "## Probability Distribution Practice\n",
    "\n",
    "### Lt Col Horton\n",
    "\n",
    "In this notebook, I will provide some practice problems that will help reinforce your understanding of probability distributions. Throughout this practice, I highly encourage you to refer to the `scipy` documentation online. While you are there, feel free to explore areas we don't cover in this notebook (particularly plotting and randomization). \n",
    "\n",
    "For each of the tasks below **_1)_** define a random variable that will help you answer the question; **_2)_** state the distribution and parameters of that random variable; **_3)_** determine the expected value and variance of that random variable. \n",
    "\n",
    "I will demonstrate using **_1.1_** below. "
   ]
  },
  {
   "cell_type": "markdown",
   "metadata": {},
   "source": [
    "#### Problem 1"
   ]
  },
  {
   "cell_type": "markdown",
   "metadata": {},
   "source": [
    "The T-6 training aircraft is used during UPT. Suppose that on each training sortie, aircraft return with a maintenance-related failure at a rate of 1 per 100 sorties. \n",
    "\n",
    "**_1.1_** Find the probability of no maintenance failures in 15 sorties. \n",
    "\n",
    "**_1.2_** Find the probability of at least two maintenance failures in 15 sorties. \n",
    "\n",
    "**_1.3_** Find the probability of at least 30 successful (no mx failures) sorties before the first failure.\n",
    "\n",
    "**_1.4_** Find the probability of at least 50 successful sorties before the third failure. \n",
    "\n"
   ]
  },
  {
   "cell_type": "markdown",
   "metadata": {},
   "source": [
    "##### Demonstration using 1.1\n",
    "\n",
    "Find the probability of no maintenance failures in 15 sorties.\n",
    "\n",
    "$X$: the number of maintenance failures in 15 sorties. \n",
    "\n",
    "$X\\sim \\textsf{Bin}(n=15, p=0.01)$\n",
    "\n",
    "$E(X) = np = 15*0.01 = 0.15$\n",
    "\n",
    "$V(X) = np(1-p) = 15*0.01*0.99 = 0.1485$"
   ]
  },
  {
   "cell_type": "markdown",
   "metadata": {},
   "source": [
    "Probability of no maintenance failures, $P(X=0)$:  "
   ]
  },
  {
   "cell_type": "code",
   "execution_count": 5,
   "metadata": {},
   "outputs": [
    {
     "data": {
      "text/plain": [
       "0.8600583546412884"
      ]
     },
     "execution_count": 5,
     "metadata": {},
     "output_type": "execute_result"
    }
   ],
   "source": [
    "stats.binom.pmf(0,15,0.01)"
   ]
  },
  {
   "cell_type": "markdown",
   "metadata": {},
   "source": [
    "The probability of getting no maintenance failures in 15 sorties is about 0.86. It is worth taking a moment to make sure this value makes sense. Since failures are fairly unlikely, and the **expected** number of failures (0.15) is close to 0, then 0 failures should be a fairly likely outcome and a probability of 0.86 makes sense. "
   ]
  },
  {
   "cell_type": "markdown",
   "metadata": {},
   "source": [
    "#### Problem 2"
   ]
  },
  {
   "cell_type": "markdown",
   "metadata": {},
   "source": [
    "On a given Saturday, suppose vehicles arrive at the USAFA North Gate according to a Poisson process at a rate of 40 arrivals per hour. \n",
    "\n",
    "**_2.1_** Find the probability no vehicles arrive in 10 minutes. \n",
    "\n",
    "**_2.2_** Find the probability at least 50 vehicles arrive in an hour. \n",
    "\n",
    "**_2.3_** Find the probability that at least 5 minutes will pass before the next arrival.\n",
    "\n",
    "**_2.4_** Find the probability that the next vehicle will arrive between 2 and 10 minutes from now. \n",
    "\n",
    "**_2.5_** Find the probability that at least 7 minutes will pass before the next arrival, given that 2 minute have already passed. Compare this answer to **_2.3_**. This is an example of the *memoryless* property of the exponential distribution.\n",
    "\n",
    "**_2.6_** Fill in the blank. There is a probability of 90% that the next vehicle will arrive within __ minutes. This value is known as the 90% percentile of the random variable. \n"
   ]
  },
  {
   "cell_type": "markdown",
   "metadata": {},
   "source": [
    "#### Problem 3"
   ]
  },
  {
   "cell_type": "markdown",
   "metadata": {},
   "source": [
    "Suppose there are 12 male and 7 female cadets in a classroom. I select 5 completely at random (without replacement). \n",
    "\n",
    "**_3.1_** Find the probability I select no female cadets. \n",
    "\n",
    "**_3.2_** Find the probability I select more than 2 female cadets. "
   ]
  },
  {
   "cell_type": "markdown",
   "metadata": {},
   "source": [
    "#### Problem 4"
   ]
  },
  {
   "cell_type": "markdown",
   "metadata": {},
   "source": [
    "Suppose PFT scores in the cadet wing follow a normal distribution with mean 330 and standard deviation 50. \n",
    "\n",
    "**_4.1_** Find the probability a randomly selected cadet has a PFT score higher than 450. \n",
    "\n",
    "**_4.2_** Find the probability a randomly selected cadet has a PFT score within 2 standard deviations of the mean.\n",
    "\n",
    "**_4.3_** Find $a$ and $b$ such that 90% of PFT scores will be between $a$ and $b$. \n",
    "\n",
    "**_4.4_** Find the probability a randomly selected cadet has a PFT score higher than 450 given he/she is among the top 10% of cadets. "
   ]
  },
  {
   "cell_type": "markdown",
   "metadata": {},
   "source": [
    "#### Problem 5"
   ]
  },
  {
   "cell_type": "markdown",
   "metadata": {},
   "source": [
    "Suppose time until computer errors on the F-35 follows a Gamma distribution with mean 20 hours and variance 10.  \n",
    "\n",
    "**_5.1_** Find the probability that 50 hours pass without a computer error. \n",
    "\n",
    "**_5.2_** Find the probability that 75 hours pass without a computer error, given that 25 hours have already passed. Dose the memoryless property apply to the Gamma distribution? \n",
    "\n",
    "**_5.3_** Find $a$ and $b$: There is a 95% probability time until next computer error will be between $a$ and $b$.  "
   ]
  }
 ],
 "metadata": {
  "kernelspec": {
   "display_name": "Python 3",
   "language": "python",
   "name": "python3"
  },
  "language_info": {
   "codemirror_mode": {
    "name": "ipython",
    "version": 3
   },
   "file_extension": ".py",
   "mimetype": "text/x-python",
   "name": "python",
   "nbconvert_exporter": "python",
   "pygments_lexer": "ipython3",
   "version": "3.6.4"
  }
 },
 "nbformat": 4,
 "nbformat_minor": 2
}
