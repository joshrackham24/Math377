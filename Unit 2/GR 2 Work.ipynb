{
 "cells": [
  {
   "cell_type": "code",
   "execution_count": 31,
   "metadata": {},
   "outputs": [],
   "source": [
    "from scipy import stats\n",
    "import numpy as np"
   ]
  },
  {
   "cell_type": "code",
   "execution_count": 32,
   "metadata": {},
   "outputs": [
    {
     "name": "stdout",
     "output_type": "stream",
     "text": [
      "0.0012726338013398079\n"
     ]
    }
   ],
   "source": [
    "# Problem 6\n",
    "print(stats.poisson.cdf(0, 40/6))"
   ]
  },
  {
   "cell_type": "code",
   "execution_count": 33,
   "metadata": {},
   "outputs": [
    {
     "name": "stdout",
     "output_type": "stream",
     "text": [
      "0.035673993347252395\n"
     ]
    }
   ],
   "source": [
    "# Problem 7\n",
    "print(stats.poisson.cdf(0, 40/12))"
   ]
  },
  {
   "cell_type": "code",
   "execution_count": 34,
   "metadata": {},
   "outputs": [
    {
     "data": {
      "text/plain": [
       "2.327585092994046"
      ]
     },
     "execution_count": 34,
     "metadata": {},
     "output_type": "execute_result"
    }
   ],
   "source": [
    "stats.expon.ppf(0.9, 1/40)"
   ]
  },
  {
   "cell_type": "code",
   "execution_count": 35,
   "metadata": {},
   "outputs": [
    {
     "data": {
      "text/plain": [
       "array([1001, 1701,  541, 1286,  881, 1923,   14, 1369,  788,   54,  297,\n",
       "       1645, 1345, 1917, 1114, 1211,  830,  307, 1665, 1884,  349,  423,\n",
       "        193, 1266,  561,  301, 1304,  413, 1594, 1348, 1081,  288, 1815,\n",
       "        196,  945, 1743,   18,  158,  401,  374])"
      ]
     },
     "execution_count": 35,
     "metadata": {},
     "output_type": "execute_result"
    }
   ],
   "source": [
    "# Problem 15\n",
    "np.random.seed(2020)\n",
    "plane_serial_numbers = np.random.choice(np.arange(2000), 40, replace=False)\n",
    "plane_serial_numbers"
   ]
  },
  {
   "cell_type": "code",
   "execution_count": 55,
   "metadata": {},
   "outputs": [
    {
     "data": {
      "text/plain": [
       "array([1678.5 , 1587.8 , 1741.35, ..., 2464.25, 1970.35, 1505.8 ])"
      ]
     },
     "execution_count": 55,
     "metadata": {},
     "output_type": "execute_result"
    }
   ],
   "source": [
    "stats = np.array([])\n",
    "for _ in np.arange(5000):\n",
    "    resample = np.random.choice(plane_serial_numbers, size=40, replace=True)\n",
    "    stat = np.mean(resample) * 2 - 1\n",
    "    stats = np.append(stats, stat)\n",
    "    \n",
    "stats"
   ]
  },
  {
   "cell_type": "code",
   "execution_count": 58,
   "metadata": {},
   "outputs": [
    {
     "name": "stdout",
     "output_type": "stream",
     "text": [
      "1222.99995\n",
      "1374.165025\n"
     ]
    }
   ],
   "source": [
    "print(np.percentile(stats, 0.05))\n",
    "print(np.percentile(stats, 0.95))"
   ]
  },
  {
   "cell_type": "code",
   "execution_count": null,
   "metadata": {},
   "outputs": [],
   "source": []
  }
 ],
 "metadata": {
  "kernelspec": {
   "display_name": "Python 3",
   "language": "python",
   "name": "python3"
  },
  "language_info": {
   "codemirror_mode": {
    "name": "ipython",
    "version": 3
   },
   "file_extension": ".py",
   "mimetype": "text/x-python",
   "name": "python",
   "nbconvert_exporter": "python",
   "pygments_lexer": "ipython3",
   "version": "3.7.0"
  }
 },
 "nbformat": 4,
 "nbformat_minor": 2
}
